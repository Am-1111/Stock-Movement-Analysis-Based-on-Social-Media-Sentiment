
# Stock Movement Analysis Using Social Media Sentiment

This notebook performs stock movement prediction using sentiment analysis from Twitter data. The following steps are implemented:

1. **Data Scraping**:
   - Scrape historical tweets using the `GetOldTweets3` library.
   - Fetch historical stock prices using the `yfinance` library.

2. **Data Cleaning & Feature Engineering**:
   - Clean tweets (remove punctuation, stopwords, hyperlinks, etc.).
   - Perform sentiment analysis using the `VADER` sentiment analyzer.
   - Extract additional features like tweet volume, sentiment trends, and stock-specific keywords.

3. **Machine Learning Models**:
   - Predict stock prices using Random Forest and Support Vector Regression (SVR).
   - Evaluate models using metrics such as RMSE, MAE, and R² Score.

4. **Visualization**:
   - Visualize sentiment trends, stock price predictions, and feature importance.


# Import necessary libraries
import pandas as pd
import numpy as np
import yfinance as yf
import matplotlib.pyplot as plt
from nltk.sentiment.vader import SentimentIntensityAnalyzer
from sklearn.ensemble import RandomForestRegressor
from sklearn.svm import SVR
from sklearn.metrics import mean_squared_error, mean_absolute_error, r2_score
from sklearn.model_selection import train_test_split, cross_val_score
import seaborn as sns
import warnings

warnings.filterwarnings("ignore")
sns.set(style="whitegrid")
    
