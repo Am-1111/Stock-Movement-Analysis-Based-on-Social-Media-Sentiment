{
 "cells": [
  {
   "cell_type": "markdown",
   "id": "1b51348a",
   "metadata": {},
   "source": [
    "\n",
    "# Stock Movement Analysis Using Social Media Sentiment\n",
    "\n",
    "This notebook performs stock movement prediction using sentiment analysis from Twitter data. The following steps are implemented:\n",
    "\n",
    "1. **Data Scraping**:\n",
    "   - Scrape historical tweets using the `GetOldTweets3` library.\n",
    "   - Fetch historical stock prices using the `yfinance` library.\n",
    "\n",
    "2. **Data Cleaning & Feature Engineering**:\n",
    "   - Clean tweets (remove punctuation, stopwords, hyperlinks, etc.).\n",
    "   - Perform sentiment analysis using the `VADER` sentiment analyzer.\n",
    "   - Extract additional features like tweet volume, sentiment trends, and stock-specific keywords.\n",
    "\n",
    "3. **Machine Learning Models**:\n",
    "   - Predict stock prices using Random Forest and Support Vector Regression (SVR).\n",
    "   - Evaluate models using metrics such as RMSE, MAE, and R² Score.\n",
    "\n",
    "4. **Visualization**:\n",
    "   - Visualize sentiment trends, stock price predictions, and feature importance.\n",
    "    "
   ]
  },
  {
   "cell_type": "code",
   "execution_count": null,
   "id": "fdcbd92c",
   "metadata": {},
   "outputs": [],
   "source": [
    "\n",
    "# Import necessary libraries\n",
    "import pandas as pd\n",
    "import numpy as np\n",
    "import yfinance as yf\n",
    "import matplotlib.pyplot as plt\n",
    "from nltk.sentiment.vader import SentimentIntensityAnalyzer\n",
    "from sklearn.ensemble import RandomForestRegressor\n",
    "from sklearn.svm import SVR\n",
    "from sklearn.metrics import mean_squared_error, mean_absolute_error, r2_score\n",
    "from sklearn.model_selection import train_test_split, cross_val_score\n",
    "import seaborn as sns\n",
    "import warnings\n",
    "\n",
    "warnings.filterwarnings(\"ignore\")\n",
    "sns.set(style=\"whitegrid\")\n",
    "    "
   ]
  },
  {
   "cell_type": "markdown",
   "id": "465a005a",
   "metadata": {},
   "source": [
    "## Step 2: Data Scraping (Simulated)"
   ]
  },
  {
   "cell_type": "code",
   "execution_count": null,
   "id": "e2f24166",
   "metadata": {},
   "outputs": [],
   "source": [
    "\n",
    "# Simulating data scraping for demonstration purposes\n",
    "# Use actual scraping code (GetOldTweets3 and yfinance) for real data\n",
    "\n",
    "# Example stock data\n",
    "stock_data = pd.DataFrame({\n",
    "    \"Date\": pd.date_range(start=\"2023-01-01\", periods=100),\n",
    "    \"Prices\": np.cumsum(np.random.normal(0, 1, 100)) + 100\n",
    "})\n",
    "\n",
    "# Example tweets data\n",
    "tweets_data = pd.DataFrame({\n",
    "    \"Date\": pd.date_range(start=\"2023-01-01\", periods=100),\n",
    "    \"Tweets\": [\"Example tweet text\"] * 100\n",
    "})\n",
    "\n",
    "# Save the simulated data for further steps\n",
    "stock_data.to_csv(\"stock_data.csv\", index=False)\n",
    "tweets_data.to_csv(\"tweets_data.csv\", index=False)\n",
    "    "
   ]
  },
  {
   "cell_type": "markdown",
   "id": "804326d1",
   "metadata": {},
   "source": [
    "## Step 3: Feature Engineering"
   ]
  },
  {
   "cell_type": "code",
   "execution_count": null,
   "id": "a49dc11a",
   "metadata": {},
   "outputs": [],
   "source": [
    "\n",
    "# Load the data\n",
    "stock_data = pd.read_csv(\"stock_data.csv\")\n",
    "tweets_data = pd.read_csv(\"tweets_data.csv\")\n",
    "\n",
    "# Sentiment Analysis\n",
    "sia = SentimentIntensityAnalyzer()\n",
    "tweets_data[\"Compound\"] = tweets_data[\"Tweets\"].apply(lambda x: sia.polarity_scores(x)[\"compound\"])\n",
    "\n",
    "# Add tweet volume (simulated as random for this example)\n",
    "tweets_data[\"TweetVolume\"] = np.random.randint(50, 200, len(tweets_data))\n",
    "\n",
    "# Merge with stock data\n",
    "merged_data = pd.merge(stock_data, tweets_data, on=\"Date\")\n",
    "\n",
    "# Add rolling average of sentiment score\n",
    "merged_data[\"RollingSentiment\"] = merged_data[\"Compound\"].rolling(window=5, min_periods=1).mean()\n",
    "    "
   ]
  },
  {
   "cell_type": "markdown",
   "id": "b4f97cdb",
   "metadata": {},
   "source": [
    "## Step 4: Model Training and Evaluation"
   ]
  },
  {
   "cell_type": "code",
   "execution_count": null,
   "id": "65aa3989",
   "metadata": {},
   "outputs": [],
   "source": [
    "\n",
    "# Prepare data for training\n",
    "X = merged_data[[\"Compound\", \"TweetVolume\", \"RollingSentiment\"]]\n",
    "y = merged_data[\"Prices\"]\n",
    "\n",
    "# Train-test split\n",
    "X_train, X_test, y_train, y_test = train_test_split(X, y, test_size=0.2, random_state=42)\n",
    "\n",
    "# Random Forest Model\n",
    "rf = RandomForestRegressor(random_state=42)\n",
    "rf.fit(X_train, y_train)\n",
    "rf_predictions = rf.predict(X_test)\n",
    "\n",
    "# Support Vector Regression\n",
    "svr = SVR(kernel=\"rbf\", C=100, gamma=0.1)\n",
    "svr.fit(X_train, y_train)\n",
    "svr_predictions = svr.predict(X_test)\n",
    "\n",
    "# Evaluation\n",
    "models = {\"Random Forest\": rf_predictions, \"SVR\": svr_predictions}\n",
    "results = {}\n",
    "\n",
    "for model_name, predictions in models.items():\n",
    "    results[model_name] = {\n",
    "        \"RMSE\": np.sqrt(mean_squared_error(y_test, predictions)),\n",
    "        \"MAE\": mean_absolute_error(y_test, predictions),\n",
    "        \"R²\": r2_score(y_test, predictions)\n",
    "    }\n",
    "\n",
    "# Display results\n",
    "results_df = pd.DataFrame(results).T\n",
    "print(results_df)\n",
    "    "
   ]
  },
  {
   "cell_type": "markdown",
   "id": "a1404c44",
   "metadata": {},
   "source": [
    "## Step 5: Visualization"
   ]
  },
  {
   "cell_type": "code",
   "execution_count": null,
   "id": "ac0e57ff",
   "metadata": {},
   "outputs": [],
   "source": [
    "\n",
    "# Plot actual vs. predicted prices\n",
    "plt.figure(figsize=(12, 6))\n",
    "plt.plot(y_test.values, label=\"Actual Prices\", marker=\"o\")\n",
    "plt.plot(rf_predictions, label=\"RF Predicted Prices\", marker=\"x\")\n",
    "plt.plot(svr_predictions, label=\"SVR Predicted Prices\", marker=\"s\")\n",
    "plt.legend()\n",
    "plt.title(\"Actual vs Predicted Prices\")\n",
    "plt.xlabel(\"Test Samples\")\n",
    "plt.ylabel(\"Prices\")\n",
    "plt.show()\n",
    "\n",
    "# Feature importance for Random Forest\n",
    "importances = rf.feature_importances_\n",
    "plt.figure(figsize=(8, 4))\n",
    "sns.barplot(x=X.columns, y=importances)\n",
    "plt.title(\"Feature Importance (Random Forest)\")\n",
    "plt.ylabel(\"Importance Score\")\n",
    "plt.show()\n",
    "    "
   ]
  }
 ],
 "metadata": {},
 "nbformat": 4,
 "nbformat_minor": 5
}
